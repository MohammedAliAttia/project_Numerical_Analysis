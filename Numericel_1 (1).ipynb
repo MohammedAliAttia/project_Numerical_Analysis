{
  "nbformat": 4,
  "nbformat_minor": 0,
  "metadata": {
    "colab": {
      "provenance": []
    },
    "kernelspec": {
      "name": "python3",
      "display_name": "Python 3"
    },
    "language_info": {
      "name": "python"
    }
  },
  "cells": [
    {
      "cell_type": "code",
      "execution_count": 23,
      "metadata": {
        "colab": {
          "base_uri": "https://localhost:8080/"
        },
        "id": "WTBo-KLafnuY",
        "outputId": "8cbe96e9-9c24-477d-ac7a-a6cb2a24675b"
      },
      "outputs": [
        {
          "output_type": "stream",
          "name": "stdout",
          "text": [
            "First Guess: 1\n",
            "Second Guess: 2\n",
            "Tolerable Error: .0001\n",
            "Given guess values do not bracket the root.\n",
            "Try Again with different guess values.\n"
          ]
        }
      ],
      "source": [
        "#Mohammed Ali Attia 20100211\n",
        "# Defining Function\n",
        "def f(x):\n",
        "    return x**3-5*x-9\n",
        "\n",
        "# Implementing False Position Method\n",
        "def falsePosition(x0,x1,e):\n",
        "    step = 1\n",
        "    print('\\n\\n*** FALSE POSITION METHOD IMPLEMENTATION ***')\n",
        "    condition = True\n",
        "    while condition:\n",
        "        x2 = x0 - (x1-x0) * f(x0)/( f(x1) - f(x0) )\n",
        "        print('Iteration-%d, x2 = %0.6f and f(x2) = %0.6f' % (step, x2, f(x2)))\n",
        "\n",
        "        if f(x0) * f(x2) < 0:\n",
        "            x1 = x2\n",
        "        else:\n",
        "            x0 = x2\n",
        "\n",
        "        step = step + 1\n",
        "        condition = abs(f(x2)) > e\n",
        "\n",
        "    print('\\nRequired root is: %0.8f' % x2)\n",
        "\n",
        "# Input Section\n",
        "x0 = float(input('First Guess: '))\n",
        "x1 = float(input('Second Guess: '))\n",
        "e = float(input('Tolerable Error: '))\n",
        "\n",
        "# Checking Correctness of initial guess values and false positioning\n",
        "if f(x0) * f(x1) > 0.0:\n",
        "    print('Given guess values do not bracket the root.')\n",
        "    print('Try Again with different guess values.')\n",
        "else:\n",
        "    falsePosition(x0,x1,e)\n"
      ]
    },
    {
      "cell_type": "code",
      "source": [
        "def fixed_point_iteration(g, x0, tolerance, max_iterations, scale=100):\n",
        "    x = x0\n",
        "    iteration = 0\n",
        "    error = float('inf')\n",
        "\n",
        "    while error > tolerance and iteration < max_iterations:\n",
        "        x_new = g(x) / scale\n",
        "        error = abs(x_new - x)\n",
        "        x = x_new\n",
        "        iteration += 1\n",
        "\n",
        "    if iteration == max_iterations:\n",
        "        print(\"Maximum iterations reached without convergence.\")\n",
        "\n",
        "    return x\n",
        "\n",
        "\n",
        "# Define the function g(x)\n",
        "def g(x):\n",
        "     return x**3 - 5*x - 9\n",
        "\n",
        "# Set the initial guess, tolerance, and maximum iterations\n",
        "x0 = 0.5\n",
        "tolerance = 1e-6\n",
        "max_iterations = 1000\n",
        "scale = 100\n",
        "\n",
        "# Call the fixed_point_iteration function\n",
        "solution = fixed_point_iteration(g, x0, tolerance, max_iterations, scale)\n",
        "\n",
        "print(\"Solution:\", solution)\n"
      ],
      "metadata": {
        "colab": {
          "base_uri": "https://localhost:8080/"
        },
        "id": "7Eyyc4Fl1Stn",
        "outputId": "16bc5147-4c79-442a-a980-aa36513d102a"
      },
      "execution_count": null,
      "outputs": [
        {
          "output_type": "stream",
          "name": "stdout",
          "text": [
            "Solution: -0.08572027591991334\n"
          ]
        }
      ]
    },
    {
      "cell_type": "code",
      "source": [
        "def bisection(f, a, b, tolerance, max_iterations):\n",
        "    if f(a) * f(b) >= 0:\n",
        "        print(\"The function may not have a root in the given interval.\")\n",
        "        return None\n",
        "\n",
        "    iteration = 0\n",
        "    error = float('inf')\n",
        "\n",
        "    while error > tolerance and iteration < max_iterations:\n",
        "        c = (a + b) / 2  # Calculate the midpoint\n",
        "        if f(c) == 0:\n",
        "            return c  # Found the exact root\n",
        "        elif f(a) * f(c) < 0:\n",
        "            b = c  # Update the interval\n",
        "        else:\n",
        "            a = c  # Update the interval\n",
        "\n",
        "        error = abs(b - a)  # Calculate the error\n",
        "        iteration += 1\n",
        "\n",
        "    if iteration == max_iterations:\n",
        "        print(\"Maximum iterations reached without convergence.\")\n",
        "\n",
        "    return (a + b) / 2  # Return the approximate root\n",
        "\n",
        "# Define the function f(x)\n",
        "def f(x):\n",
        "    return x**3 - 5*x - 9\n",
        "\n",
        "# Set the interval [a, b], tolerance, and maximum iterations\n",
        "a = -10\n",
        "b = 10\n",
        "tolerance = 1e-6\n",
        "max_iterations = 100\n",
        "\n",
        "# Call the bisection function\n",
        "solution = bisection(f, a, b, tolerance, max_iterations)\n",
        "\n",
        "print(\"Solution:\",solution)"
      ],
      "metadata": {
        "colab": {
          "base_uri": "https://localhost:8080/"
        },
        "id": "QVdYPErv3m96",
        "outputId": "02370b98-57e8-4a25-e37e-43f386f661e8"
      },
      "execution_count": 4,
      "outputs": [
        {
          "output_type": "stream",
          "name": "stdout",
          "text": [
            "Solution: 2.8551962971687317\n"
          ]
        }
      ]
    },
    {
      "cell_type": "code",
      "source": [
        "import time\n",
        "\n",
        "def main():\n",
        "    start_time = time.time()\n",
        "    solution = newton_raphson(f, df, x0, tolerance, max_iterations)\n",
        "    print(\"Solution:\", solution)\n",
        "    print(\"--- %s seconds ---\" % (time.time() - start_time))\n",
        "\n",
        "def newton_raphson(f, df, x0, tolerance, max_iterations):\n",
        "    iteration = 0\n",
        "    x = x0\n",
        "    error = float('inf')\n",
        "\n",
        "    while error > tolerance and iteration < max_iterations:\n",
        "        x_new = x - f(x) / df(x)\n",
        "        error = abs(x_new - x)\n",
        "        x = x_new\n",
        "        iteration += 1\n",
        "\n",
        "    if iteration == max_iterations:\n",
        "        print(\"Maximum iterations reached without convergence.\")\n",
        "    print (iteration)\n",
        "\n",
        "\n",
        "    return x\n",
        "\n",
        "# Define the function f(x) and its derivative df(x)\n",
        "def f(x):\n",
        "    return x**3 - 5*x - 9\n",
        "def df(x):\n",
        "    return 3*x**2 - 5\n",
        "\n",
        "# Set the initial guess, tolerance, and maximum iterations\n",
        "x0 = 0.5\n",
        "tolerance = 1e-6\n",
        "max_iterations = 100\n",
        "\n",
        "# Call the main function\n",
        "main()\n",
        "\n",
        "\n"
      ],
      "metadata": {
        "colab": {
          "base_uri": "https://localhost:8080/"
        },
        "id": "9OdYcY1g2eOi",
        "outputId": "37879b99-f24d-4b6c-d47d-ddbccd172c09"
      },
      "execution_count": 2,
      "outputs": [
        {
          "output_type": "stream",
          "name": "stdout",
          "text": [
            "34\n",
            "Solution: 2.855196539320729\n",
            "--- 0.0032415390014648438 seconds ---\n"
          ]
        }
      ]
    },
    {
      "cell_type": "code",
      "source": [
        "def f(x):\n",
        "    return x**3 - 5*x - 9\n",
        "\n",
        "def fp(x):\n",
        "    return 3*x**2 - 5\n",
        "\n",
        "def fpp(x):\n",
        "    return 6*x\n",
        "\n",
        "def halley(f, fp, fpp, x0, eps):\n",
        "    x = x0\n",
        "    while abs(f(x)) > eps:\n",
        "        x_new = x - (2.0 * f(x) * fp(x)) / (2.0 * fp(x) * fp(x) - f(x) * fpp(x))\n",
        "        print(x_new)\n",
        "        if abs(x_new - x) <= eps:\n",
        "            break\n",
        "        x = x_new\n",
        "\n",
        "    return x\n",
        "\n",
        "root = halley(f, fp, fpp, 2.0, 1e-6)\n",
        "print(root)"
      ],
      "metadata": {
        "colab": {
          "base_uri": "https://localhost:8080/"
        },
        "id": "bYS7EmLe4KCM",
        "outputId": "ca8a2240-21fd-4c50-d120-21129dba7a6b"
      },
      "execution_count": 7,
      "outputs": [
        {
          "output_type": "stream",
          "name": "stdout",
          "text": [
            "2.6695652173913045\n",
            "2.8541283728972897\n",
            "2.855196539146975\n",
            "2.855196539146975\n"
          ]
        }
      ]
    },
    {
      "cell_type": "code",
      "source": [
        "def aitkens(f, p0, eps, max_iterations=100):\n",
        "    p = p0\n",
        "    for i in range(max_iterations):\n",
        "        p1 = f(p)\n",
        "        p2 = f(p1)\n",
        "        denominator = p2 - 2*p1 + p\n",
        "        if denominator == 0:\n",
        "            return None\n",
        "        p = p - ((p1 - p)**2) / denominator\n",
        "        if abs(p - p0) < eps:\n",
        "            return p\n",
        "\n",
        "\n",
        "# Example usage:\n",
        "\n",
        "def f(x):\n",
        "    return x**3 - 5*x - 9\n",
        "\n",
        "# Solve f(x) = 0 using Aitken's method with an initial guess of 0.5 and a tolerance of 1e-6.\n",
        "\n",
        "root = aitkens(f,.5, 1e-6,100)\n",
        "\n",
        "if root is not None:\n",
        "    print(\"Root:\", root)\n",
        "else:\n",
        "    print(\"No root found within the maximum number of iterations.\")\n"
      ],
      "metadata": {
        "colab": {
          "base_uri": "https://localhost:8080/"
        },
        "id": "0b64E3AQH5xs",
        "outputId": "0647df66-291f-41a8-998e-576ee2e7f591"
      },
      "execution_count": 6,
      "outputs": [
        {
          "output_type": "stream",
          "name": "stdout",
          "text": [
            "No root found within the maximum number of iterations.\n"
          ]
        }
      ]
    }
  ]
}